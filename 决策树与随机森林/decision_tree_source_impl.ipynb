{
 "cells": [
  {
   "cell_type": "markdown",
   "metadata": {},
   "source": [
    "### 根据天气、温度、湿度、风速等特征判断是否举办网球比赛的模拟数据为例，计算信息熵、信息增益"
   ]
  },
  {
   "cell_type": "markdown",
   "metadata": {},
   "source": [
    "#### ID3 决策树实现原理"
   ]
  },
  {
   "cell_type": "code",
   "execution_count": null,
   "metadata": {},
   "outputs": [],
   "source": [
    "\"\"\"\n",
    "天气\t温度\t湿度\t风速\t打网球\n",
    "晴\t    高\t    高\t    弱\t    否\n",
    "晴\t    高\t    高\t    强\t    否\n",
    "阴\t    中\t    高\t    弱\t    是\n",
    "雨\t    低\t    中\t    弱\t    是\n",
    "雨\t    低\t    低\t    弱\t    是\n",
    "雨\t    中\t    低\t    强\t    否\n",
    "阴\t    中\t    低\t    强\t    是\n",
    "晴\t    低\t    中\t    弱\t    否\n",
    "晴\t    中\t    中\t    弱\t    是\n",
    "雨\t    中\t    中\t    弱\t    是\n",
    "\"\"\""
   ]
  },
  {
   "cell_type": "code",
   "execution_count": 7,
   "metadata": {},
   "outputs": [
    {
     "name": "stdout",
     "output_type": "stream",
     "text": [
      "=======================Information Gain信息增益计算========================\n",
      "（信息增益值越高，说明该特征对于区分不同类别样本的能力越强）\n",
      "原始总熵值: 0.971 bits\n",
      "基于天气特征的条件熵: 0.636 \n",
      "天气特征的信息增益: 0.334 \n",
      "温度特征的信息增益: .... \n",
      "湿度特征的信息增益: .... \n",
      "风速特征的信息增益: .... \n",
      "=======================Gini coefficient系数计算========================\n",
      "（基尼系数的值介于 0 和 1 之间，越接近 0 表示数据集的纯度越高，越接近 1 表示数据集的不纯度越高）\n",
      "原始总基尼系数: 0.480\n",
      "基于天气特征的基尼系数不纯度: 0.293 \n",
      "天气特征的基尼增益: 0.187\n",
      "温度特征的基尼系数: .... \n",
      "湿度特征的基尼系数: .... \n",
      "风速特征的基尼系数: .... \n"
     ]
    }
   ],
   "source": [
    "import numpy as np\n",
    "print(\"=======================Information Gain信息增益计算========================\")\n",
    "print(\"（信息增益值越高，说明该特征对于区分不同类别样本的能力越强）\")\n",
    "# 计算信息熵函数\n",
    "def entropy(p):\n",
    "    return -np.sum(p * np.log2(p))\n",
    "#计算基尼指数\n",
    "def gini(p):\n",
    "    return 1 - np.sum(p**2)\n",
    "\n",
    "# 原始数据熵 （最终结果分布情况，6次举办，4次不举办）\n",
    "p_parent = np.array([0.6, 0.4])\n",
    "total_entropy=entropy(p_parent)\n",
    "print(f\"原始总熵值: {total_entropy:.3f} bits\")  # 输出0.971bits\n",
    "\n",
    "# 天气特征各子集\n",
    "p_sunny = np.array([1/3, 2/3]) #3次晴天特征中，1是2否\n",
    "p_overcast = np.array([2/2]) #2次阴天特征中，2是0否\n",
    "p_rainy = np.array([4/5, 1/5]) #5次雨天特征中，4是1否\n",
    "# 条件熵计算\n",
    "weighted_entropy = (0.3*entropy(p_sunny)) + (0.2*entropy(p_overcast)) + (0.5*entropy(p_rainy))\n",
    "print(f\"基于天气特征的条件熵: {weighted_entropy:.3f} \")  # 输出0.636\n",
    "# 关于天气特征的信息增益 Gain(天气)=H(D)-H(D|天气)=p_parent-weighted_entropy\n",
    "hd_weighted_info_gain=total_entropy-weighted_entropy\n",
    "print(f\"天气特征的信息增益: {hd_weighted_info_gain:.3f} \")  # 输出0.334\n",
    "print(f\"温度特征的信息增益: .... \")  \n",
    "print(f\"湿度特征的信息增益: .... \")\n",
    "print(f\"风速特征的信息增益: .... \")\n",
    "print(\"=======================Gini coefficient系数计算========================\")\n",
    "print(\"（基尼系数的值介于 0 和 1 之间，越接近 0 表示数据集的纯度越高，越接近 1 表示数据集的不纯度越高）\")\n",
    "#原始基尼系数\n",
    "total_gini=gini(p_parent)\n",
    "print(f\"原始总基尼系数: {total_gini:.3f}\")  # 输出0.480\n",
    "#天气特征各子集\n",
    "p_sunny = np.array([1/3, 2/3]) #3次晴天特征中，1是2否\n",
    "p_overcast = np.array([2/2]) #2次阴天特征中，2是0否\n",
    "p_rainy = np.array([4/5, 1/5]) #5次雨天特征中，4是1否\n",
    "weighted_gini = (0.3*gini(p_sunny)) + (0.2*gini(p_overcast)) + (0.5*gini(p_rainy))\n",
    "#关于天气特征的基尼增益\n",
    "ig_weighted_gini=total_gini-weighted_gini\n",
    "print(f\"基于天气特征的基尼系数不纯度: {weighted_gini:.3f} \") \n",
    "print(f\"天气特征的基尼增益: {ig_weighted_gini:.3f}\")  # 输出0.187\n",
    "print(f\"温度特征的基尼系数: .... \")  \n",
    "print(f\"湿度特征的基尼系数: .... \")\n",
    "print(f\"风速特征的基尼系数: .... \")\n",
    "#同理温度、湿度、风速的信息增益可以计算出\n",
    "#最终根据不同特征的信息增益大小排序，选择信息增益最大的特征作为根节点，以此类推，直到所有特征都被选择为叶节点。\n",
    "\n"
   ]
  },
  {
   "cell_type": "markdown",
   "metadata": {},
   "source": [
    "#### C4.5决策树实现原理\n"
   ]
  },
  {
   "cell_type": "code",
   "execution_count": null,
   "metadata": {},
   "outputs": [],
   "source": [
    "\"\"\"\n",
    "ID3在处理部分场景数据特征时候存在局限性：\n",
    "1.连续特征处理：ID3只能处理分类特征，无法直接处理温度、湿度等连续值\n",
    "2.​特征选择偏差：ID3倾向于选择取值多的特征（如温度按1℃分割会有大量分支）\n",
    "3.​过拟合风险：ID3生成完全拟合训练数据的复杂树结构\n",
    "4.​缺失值处理：增加对缺失数据的处理能力\n",
    "\n",
    "天气（分类）：晴/阴/雨\n",
    "温度（连续）：数值型\n",
    "湿度（连续）：数值型\n",
    "风速（分类）：强/弱\n",
    "\n",
    "天气\t温度(℃)\t湿度(%)\t风速\t打网球\n",
    "晴\t    32\t    82\t    弱\t    否\n",
    "晴\t    35\t    85\t    强\t    否\n",
    "阴\t    25\t    78\t    弱\t    是\n",
    "雨\t    18\t    65\t    弱\t    是\n",
    "雨\t    16\t    58\t    弱\t    是\n",
    "雨\t    22\t    62\t    强\t    否\n",
    "阴\t    24\t    60\t    强\t    是\n",
    "晴\t    20\t    68\t    弱\t    否\n",
    "晴\t    26\t    72\t    弱\t    是\n",
    "雨\t    23\t    70\t    弱\t    是\n",
    "\"\"\""
   ]
  },
  {
   "cell_type": "code",
   "execution_count": null,
   "metadata": {},
   "outputs": [
    {
     "name": "stdout",
     "output_type": "stream",
     "text": [
      "0.0058021490143456145\n",
      "0.8812908992306927\n"
     ]
    },
    {
     "data": {
      "text/plain": [
       "np.float64(0.0065836933291952724)"
      ]
     },
     "execution_count": 16,
     "metadata": {},
     "output_type": "execute_result"
    }
   ],
   "source": [
    "import pandas as pd\n",
    "# 数据信息总熵H(D)为 total_entropy 0.971\n",
    "#对连续值温度排序后分割，排序后温度 = [16,18,20,22,23,24,25,26,32,35]，对应标签  = [是,是,否,否,是,是,是,是,否,否]\n",
    "\"\"\"\n",
    "候选分割点 = [\n",
    "    (16+18)/2=17, \n",
    "    (18+20)/2=19,\n",
    "    (20+22)/2=21,\n",
    "    (22+23)/2=22.5,\n",
    "    (23+24)/2=23.5,\n",
    "    (24+25)/2=24.5,\n",
    "    (25+26)/2=25.5,\n",
    "    (26+32)/2=29,\n",
    "    (32+35)/2=33.5\n",
    "]\n",
    "以分割点21.5℃为例详细计算，分割点需要合理选择，不一定平分，假如以22.5为分割点最后就会发现温度对最后样本结果影响为0\n",
    "左子集（≤21℃）: 温度16,18,20 → 标签[是,是,否]\n",
    "右子集（>21℃）: 温度22,23,24,25,26,32,35 → 标签[否,是,是,是,是,否,否]\n",
    "\"\"\"\n",
    "#子集信息熵计算\n",
    "H_left = entropy(np.array([2/3, 1/3]) )#0.918\n",
    "H_right = entropy(np.array([4/7, 3/7]) )#0.985\n",
    "#关于温度的条件熵则为\n",
    "H_condition = 3/10 * H_left + 7/10 * H_right #0.965\n",
    "#信息增益\n",
    "IG = total_entropy - H_condition #0.0058\n",
    "print(IG)\n",
    "#计算分裂信息，温度对最终结果样本的分布为3/10,7/10\n",
    "SI = entropy(np.array([3/10, 7/10])) #0.881\n",
    "print(SI)\n",
    "#计算增益率，由此可得在此数据集下，温度对样本的增益率较小，通过此方法可以对连续值特征进行处理\n",
    "Gain_Ratio = IG / SI #0.0065\n",
    "Gain_Ratio\n",
    "\n"
   ]
  }
 ],
 "metadata": {
  "kernelspec": {
   "display_name": "circle-py",
   "language": "python",
   "name": "python3"
  },
  "language_info": {
   "codemirror_mode": {
    "name": "ipython",
    "version": 3
   },
   "file_extension": ".py",
   "mimetype": "text/x-python",
   "name": "python",
   "nbconvert_exporter": "python",
   "pygments_lexer": "ipython3",
   "version": "3.12.9"
  }
 },
 "nbformat": 4,
 "nbformat_minor": 2
}
